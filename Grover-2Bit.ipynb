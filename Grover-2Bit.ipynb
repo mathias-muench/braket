{
 "cells": [
  {
   "cell_type": "code",
   "execution_count": 7,
   "id": "78165dcc",
   "metadata": {},
   "outputs": [],
   "source": [
    "from braket.circuits import Circuit\n",
    "from braket.aws import AwsDevice,AwsQuantumTask"
   ]
  },
  {
   "cell_type": "code",
   "execution_count": 8,
   "id": "cee89c93",
   "metadata": {},
   "outputs": [
    {
     "name": "stdout",
     "output_type": "stream",
     "text": [
      "T  : |0|1|2|3|4|5|6|7|8|\n",
      "                        \n",
      "q0 : -H---C-H-X---C-X-H-\n",
      "          |       |     \n",
      "q1 : -H-X-Z-X-H-X-Z-X-H-\n",
      "\n",
      "T  : |0|1|2|3|4|5|6|7|8|\n"
     ]
    }
   ],
   "source": [
    "c = Circuit()\n",
    "c = c.h([0,1])\n",
    "\n",
    "for i in range(1):\n",
    "    c = c.x([1])\n",
    "    c = c.cz(0, 1)\n",
    "    c = c.x([1])\n",
    "\n",
    "    c = c.h([0,1])\n",
    "    c = c.x([0,1])\n",
    "    c = c.cz(0, 1)\n",
    "    c = c.x([0,1])\n",
    "    c = c.h([0,1])\n",
    "\n",
    "print(c.diagram())"
   ]
  },
  {
   "cell_type": "code",
   "execution_count": 9,
   "id": "de59b640",
   "metadata": {},
   "outputs": [
    {
     "data": {
      "text/plain": [
       "Device('name': Aspen-M-3, 'arn': arn:aws:braket:us-west-1::device/qpu/rigetti/Aspen-M-3)"
      ]
     },
     "execution_count": 9,
     "metadata": {},
     "output_type": "execute_result"
    }
   ],
   "source": [
    "d = AwsDevice(\"arn:aws:braket:us-west-1::device/qpu/rigetti/Aspen-M-3\")\n",
    "d"
   ]
  },
  {
   "cell_type": "code",
   "execution_count": 10,
   "id": "bd837018",
   "metadata": {},
   "outputs": [
    {
     "data": {
      "text/plain": [
       "AwsQuantumTask('id/taskArn':'arn:aws:braket:us-west-1:602345884574:quantum-task/15800d3e-7d67-4fe3-9641-a1d16f2d23a3')"
      ]
     },
     "execution_count": 10,
     "metadata": {},
     "output_type": "execute_result"
    }
   ],
   "source": [
    "t = d.run(c, shots=1000)\n",
    "t"
   ]
  },
  {
   "cell_type": "code",
   "execution_count": 15,
   "id": "309f2b87",
   "metadata": {},
   "outputs": [
    {
     "data": {
      "text/plain": [
       "'COMPLETED'"
      ]
     },
     "execution_count": 15,
     "metadata": {},
     "output_type": "execute_result"
    }
   ],
   "source": [
    "r = AwsQuantumTask(arn=t.id)\n",
    "r.state()"
   ]
  },
  {
   "cell_type": "code",
   "execution_count": 16,
   "id": "bba9916e",
   "metadata": {},
   "outputs": [
    {
     "data": {
      "text/plain": [
       "Counter({'00': 60, '10': 720, '11': 87, '01': 133})"
      ]
     },
     "execution_count": 16,
     "metadata": {},
     "output_type": "execute_result"
    }
   ],
   "source": [
    "r.result().measurement_counts"
   ]
  },
  {
   "cell_type": "code",
   "execution_count": null,
   "id": "e12dbc1b",
   "metadata": {},
   "outputs": [],
   "source": []
  }
 ],
 "metadata": {
  "kernelspec": {
   "display_name": "conda_braket",
   "language": "python",
   "name": "conda_braket"
  },
  "language_info": {
   "codemirror_mode": {
    "name": "ipython",
    "version": 3
   },
   "file_extension": ".py",
   "mimetype": "text/x-python",
   "name": "python",
   "nbconvert_exporter": "python",
   "pygments_lexer": "ipython3",
   "version": "3.7.15"
  }
 },
 "nbformat": 4,
 "nbformat_minor": 5
}
