{
 "cells": [
  {
   "cell_type": "code",
   "execution_count": 1,
   "id": "78d662fb",
   "metadata": {},
   "outputs": [],
   "source": [
    "from braket.circuits import Circuit, circuit\n",
    "from braket.devices import LocalSimulator\n",
    "from braket.aws import AwsDevice,AwsQuantumTask"
   ]
  },
  {
   "cell_type": "code",
   "execution_count": 2,
   "id": "10be356e",
   "metadata": {},
   "outputs": [],
   "source": [
    "@circuit.subroutine(register=True)\n",
    "def adder(target, x, y):\n",
    "    c = Circuit()\n",
    "    c = c.cnot(x, target)\n",
    "    c = c.cnot(y, target)\n",
    "    c = c.ccnot(x, y, target + 1)\n",
    "    # print(c.diagram())\n",
    "    return c"
   ]
  },
  {
   "cell_type": "code",
   "execution_count": 3,
   "id": "4db3d05c",
   "metadata": {},
   "outputs": [],
   "source": [
    "c = Circuit()\n",
    "c = c.x([0])\n",
    "c = c.x([1])\n",
    "c = c.adder(2, 0, 1)"
   ]
  },
  {
   "cell_type": "code",
   "execution_count": 4,
   "id": "c48974c5",
   "metadata": {},
   "outputs": [
    {
     "data": {
      "text/plain": [
       "<braket.devices.local_simulator.LocalSimulator at 0x7f391088d090>"
      ]
     },
     "execution_count": 4,
     "metadata": {},
     "output_type": "execute_result"
    }
   ],
   "source": [
    "d = LocalSimulator()\n",
    "d"
   ]
  },
  {
   "cell_type": "code",
   "execution_count": 5,
   "id": "1514e261",
   "metadata": {},
   "outputs": [
    {
     "data": {
      "text/plain": [
       "LocalQuantumTask('id':1b4ed68f-6cc2-4853-89b2-72ede3519b03)"
      ]
     },
     "execution_count": 5,
     "metadata": {},
     "output_type": "execute_result"
    }
   ],
   "source": [
    "t = d.run(task_specification=c, shots=1000)\n",
    "t"
   ]
  },
  {
   "cell_type": "code",
   "execution_count": 6,
   "id": "fd2906df",
   "metadata": {},
   "outputs": [
    {
     "data": {
      "text/plain": [
       "Counter({'1101': 1000})"
      ]
     },
     "execution_count": 6,
     "metadata": {},
     "output_type": "execute_result"
    }
   ],
   "source": [
    "t.result().measurement_counts"
   ]
  },
  {
   "cell_type": "code",
   "execution_count": 7,
   "id": "c6a5d09c",
   "metadata": {},
   "outputs": [],
   "source": [
    "sv1 = AwsDevice(\"arn:aws:braket:::device/quantum-simulator/amazon/sv1\")\n",
    "am3 = AwsDevice(\"arn:aws:braket:us-west-1::device/qpu/rigetti/Aspen-M-3\")"
   ]
  },
  {
   "cell_type": "code",
   "execution_count": 8,
   "id": "c95a2d26",
   "metadata": {},
   "outputs": [
    {
     "data": {
      "text/plain": [
       "AwsQuantumTask('id/taskArn':'arn:aws:braket:us-west-1:602345884574:quantum-task/e248dd3c-4525-429c-9d4e-4057cd16a3b4')"
      ]
     },
     "execution_count": 8,
     "metadata": {},
     "output_type": "execute_result"
    }
   ],
   "source": [
    "t = am3.run(c, shots=1000)\n",
    "t"
   ]
  },
  {
   "cell_type": "code",
   "execution_count": 10,
   "id": "a05e35b6",
   "metadata": {},
   "outputs": [
    {
     "data": {
      "text/plain": [
       "'COMPLETED'"
      ]
     },
     "execution_count": 10,
     "metadata": {},
     "output_type": "execute_result"
    }
   ],
   "source": [
    "# r = AwsQuantumTask(arn=\"arn:aws:braket:us-west-1:602345884574:quantum-task/20b5aa5e-9618-4bcd-84b4-52348585372a\")\n",
    "r = AwsQuantumTask(t.id)\n",
    "r.state()"
   ]
  },
  {
   "cell_type": "code",
   "execution_count": 11,
   "id": "49ec42a1",
   "metadata": {},
   "outputs": [
    {
     "data": {
      "text/plain": [
       "Counter({'1111': 91,\n",
       "         '1110': 88,\n",
       "         '1101': 184,\n",
       "         '1100': 89,\n",
       "         '0101': 61,\n",
       "         '0011': 29,\n",
       "         '0000': 29,\n",
       "         '0111': 70,\n",
       "         '0110': 37,\n",
       "         '0100': 56,\n",
       "         '1001': 64,\n",
       "         '1000': 37,\n",
       "         '1010': 43,\n",
       "         '0001': 36,\n",
       "         '1011': 62,\n",
       "         '0010': 24})"
      ]
     },
     "execution_count": 11,
     "metadata": {},
     "output_type": "execute_result"
    }
   ],
   "source": [
    "r.result().measurement_counts"
   ]
  },
  {
   "cell_type": "code",
   "execution_count": null,
   "id": "e59a759c",
   "metadata": {},
   "outputs": [],
   "source": []
  }
 ],
 "metadata": {
  "kernelspec": {
   "display_name": "conda_braket",
   "language": "python",
   "name": "conda_braket"
  },
  "language_info": {
   "codemirror_mode": {
    "name": "ipython",
    "version": 3
   },
   "file_extension": ".py",
   "mimetype": "text/x-python",
   "name": "python",
   "nbconvert_exporter": "python",
   "pygments_lexer": "ipython3",
   "version": "3.7.15"
  }
 },
 "nbformat": 4,
 "nbformat_minor": 5
}
