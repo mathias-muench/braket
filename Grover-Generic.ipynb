{
 "cells": [
  {
   "cell_type": "code",
   "execution_count": 131,
   "id": "c32ffb67",
   "metadata": {},
   "outputs": [],
   "source": [
    "from braket.circuits import Circuit, circuit\n",
    "from braket.devices import LocalSimulator\n",
    "from braket.aws import AwsDevice,AwsQuantumTask\n",
    "\n",
    "import numpy as np"
   ]
  },
  {
   "cell_type": "code",
   "execution_count": 132,
   "id": "6a5403b3",
   "metadata": {},
   "outputs": [],
   "source": [
    "@circuit.subroutine(register=True)\n",
    "def oracle():\n",
    "    c = Circuit()\n",
    "    c = c.cnot(0, 2)\n",
    "    c = c.cnot(1, 2)\n",
    "    c = c.cnot(1, 3)\n",
    "    c = c.ccnot(2, 3, 4)\n",
    "    c = c.cnot(0, 2)\n",
    "    c = c.cnot(1, 2)\n",
    "    c = c.cnot(1, 3)\n",
    "    # print(c.diagram())\n",
    "    return c"
   ]
  },
  {
   "cell_type": "code",
   "execution_count": 133,
   "id": "7535c39b",
   "metadata": {},
   "outputs": [],
   "source": [
    "@circuit.subroutine(register=True)\n",
    "def diffusor():\n",
    "    c = Circuit()\n",
    "    c = c.h([0, 1])\n",
    "    c = c.x([0, 1])\n",
    "    c = c.h([1])\n",
    "    c = c.cnot(0, 1)\n",
    "    c = c.h([1])\n",
    "    c = c.x([0, 1])\n",
    "    c = c.h([0, 1])\n",
    "    # print(c.diagram())\n",
    "    return c"
   ]
  },
  {
   "cell_type": "code",
   "execution_count": 134,
   "id": "bbe652f2",
   "metadata": {},
   "outputs": [
    {
     "name": "stdout",
     "output_type": "stream",
     "text": [
      "T  : |    0    |1|2|3|4|5|6|7|8|9|10|11|12|13|14|\n",
      "                                                 \n",
      "q0 : -H---------C-------C-H-X--------C--X--H-----\n",
      "                |       |            |           \n",
      "q1 : -H---------|-C-C---|-C-C-H-X-H--X--H--X--H--\n",
      "                | | |   | | |                    \n",
      "q2 : -----------X-X-|-C-X-X-|--------------------\n",
      "                    | |     |                    \n",
      "q3 : ---------------X-C-----X--------------------\n",
      "                      |                          \n",
      "q4 : -Ry(-1.41)-------X--------------------------\n",
      "\n",
      "T  : |    0    |1|2|3|4|5|6|7|8|9|10|11|12|13|14|\n"
     ]
    }
   ],
   "source": [
    "c = Circuit()\n",
    "c = c.h([0])\n",
    "c = c.h([1])\n",
    "c = c.ry(4, -1 * np.sqrt(2.0))\n",
    "c = c.oracle()\n",
    "c = c.diffusor()\n",
    "print(c)"
   ]
  },
  {
   "cell_type": "code",
   "execution_count": 135,
   "id": "3eb109eb",
   "metadata": {},
   "outputs": [
    {
     "data": {
      "text/plain": [
       "<braket.devices.local_simulator.LocalSimulator at 0x7f60596595d0>"
      ]
     },
     "execution_count": 135,
     "metadata": {},
     "output_type": "execute_result"
    }
   ],
   "source": [
    "d = LocalSimulator()\n",
    "d"
   ]
  },
  {
   "cell_type": "code",
   "execution_count": 136,
   "id": "7b4db479",
   "metadata": {},
   "outputs": [
    {
     "data": {
      "text/plain": [
       "LocalQuantumTask('id':1cfea266-a911-4896-aeda-398cdac48d84)"
      ]
     },
     "execution_count": 136,
     "metadata": {},
     "output_type": "execute_result"
    }
   ],
   "source": [
    "t = d.run(task_specification=c, shots=1000)\n",
    "t"
   ]
  },
  {
   "cell_type": "code",
   "execution_count": 137,
   "id": "380821b9",
   "metadata": {},
   "outputs": [
    {
     "data": {
      "text/plain": [
       "Counter({'01001': 450, '01000': 548, '11000': 1, '10000': 1})"
      ]
     },
     "execution_count": 137,
     "metadata": {},
     "output_type": "execute_result"
    }
   ],
   "source": [
    "t.result().measurement_counts"
   ]
  },
  {
   "cell_type": "code",
   "execution_count": 138,
   "id": "f8c02572",
   "metadata": {},
   "outputs": [],
   "source": [
    "sv1 = AwsDevice(\"arn:aws:braket:::device/quantum-simulator/amazon/sv1\")\n",
    "am3 = AwsDevice(\"arn:aws:braket:us-west-1::device/qpu/rigetti/Aspen-M-3\")"
   ]
  },
  {
   "cell_type": "code",
   "execution_count": 180,
   "id": "88605ba6",
   "metadata": {},
   "outputs": [
    {
     "data": {
      "text/plain": [
       "AwsQuantumTask('id/taskArn':'arn:aws:braket:us-west-1:602345884574:quantum-task/3fccb962-cf1d-4184-b574-51fdedf9fafc')"
      ]
     },
     "execution_count": 180,
     "metadata": {},
     "output_type": "execute_result"
    }
   ],
   "source": [
    "t = am3.run(c, shots=1000)\n",
    "t"
   ]
  },
  {
   "cell_type": "code",
   "execution_count": 184,
   "id": "9db60ff7",
   "metadata": {},
   "outputs": [
    {
     "data": {
      "text/plain": [
       "'COMPLETED'"
      ]
     },
     "execution_count": 184,
     "metadata": {},
     "output_type": "execute_result"
    }
   ],
   "source": [
    "r = AwsQuantumTask(arn=t.id)\n",
    "r.state()"
   ]
  },
  {
   "cell_type": "code",
   "execution_count": 185,
   "id": "e9a3df3f",
   "metadata": {},
   "outputs": [
    {
     "data": {
      "text/plain": [
       "237"
      ]
     },
     "execution_count": 185,
     "metadata": {},
     "output_type": "execute_result"
    }
   ],
   "source": [
    "len(list(filter(lambda i: i[0] == 0 and i[1], r.result().measurements)))"
   ]
  }
 ],
 "metadata": {
  "kernelspec": {
   "display_name": "conda_braket",
   "language": "python",
   "name": "conda_braket"
  },
  "language_info": {
   "codemirror_mode": {
    "name": "ipython",
    "version": 3
   },
   "file_extension": ".py",
   "mimetype": "text/x-python",
   "name": "python",
   "nbconvert_exporter": "python",
   "pygments_lexer": "ipython3",
   "version": "3.7.15"
  }
 },
 "nbformat": 4,
 "nbformat_minor": 5
}
